{
 "cells": [
  {
   "cell_type": "code",
   "execution_count": null,
   "id": "e67a9a2c",
   "metadata": {},
   "outputs": [],
   "source": [
    "import csv\n",
    "import json\n",
    "\n",
    "compromised_users = []\n",
    "\n",
    "with open('passwords.csv') as password_file:\n",
    "  password_csv = csv.DictReader(password_file)\n",
    "  \n",
    "  for password_row in password_csv:\n",
    "    compromised_users.append(password_row['Username'])\n",
    "  #print(compromised_users)\n",
    "\n",
    "compromised = []\n",
    "with open('compromised_users.txt', 'w') as compromised_user_file:\n",
    "  for i in compromised_users:\n",
    "    compromised.append(i)\n",
    "print(compromised)\n",
    "\n",
    "message = []\n",
    "with open('boss_message.json', 'r+') as boss_message:\n",
    "  boss_message_dict = {\n",
    "    'recipient': 'The Boss',\n",
    "    'message': 'Mission Success'\n",
    "  }\n",
    "  json.dump(boss_message_dict, boss_message)\n",
    "  for i in boss_message:\n",
    "    message.append(i)\n",
    "  \n",
    "# print(message)\n",
    "\n",
    "with open('new_passwords.csv', 'w') as new_passwords_obj:\n",
    "  slash_null_sig = \"\"\"_  _     ___   __  ____             \n",
    "/ )( \\   / __) /  \\(_  _)            \n",
    ") \\/ (  ( (_ \\(  O ) )(              \n",
    "\\____/   \\___/ \\__/ (__)             \n",
    " _  _   __    ___  __ _  ____  ____  \n",
    "/ )( \\ / _\\  / __)(  / )(  __)(    \\ \n",
    ") __ (/    \\( (__  )  (  ) _)  ) D ( \n",
    "\\_)(_/\\_/\\_/ \\___)(__\\_)(____)(____/ \n",
    "        ____  __     __   ____  _  _ \n",
    " ___   / ___)(  )   / _\\ / ___)/ )( \\\n",
    "(___)  \\___ \\/ (_/\\/    \\\\___ \\) __ (\n",
    "       (____/\\____/\\_/\\_/(____/\\_)(_/\n",
    " __ _  _  _  __    __                \n",
    "(  ( \\/ )( \\(  )  (  )               \n",
    "/    /) \\/ (/ (_/\\/ (_/\\             \n",
    "\\_)__)\\____/\\____/\\____/\"\"\"\n",
    "\n",
    "  new_passwords_obj.write(slash_null_sig)\n"
   ]
  }
 ],
 "metadata": {
  "kernelspec": {
   "display_name": "Python 3",
   "language": "python",
   "name": "python3"
  },
  "language_info": {
   "codemirror_mode": {
    "name": "ipython",
    "version": 3
   },
   "file_extension": ".py",
   "mimetype": "text/x-python",
   "name": "python",
   "nbconvert_exporter": "python",
   "pygments_lexer": "ipython3",
   "version": "3.8.8"
  }
 },
 "nbformat": 4,
 "nbformat_minor": 5
}
